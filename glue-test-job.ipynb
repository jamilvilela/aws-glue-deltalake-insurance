{
 "cells": [
  {
   "cell_type": "code",
   "execution_count": null,
   "metadata": {},
   "outputs": [],
   "source": [
    "%iam_role arn:aws:iam::331504768406:role/service-role/AWSGlueServiceRole\n",
    "%region us-east-1\n",
    "%idle_timeout 5\n",
    "%glue_version 4.0\n",
    "%worker_type G.1X\n",
    "%number_of_workers 2"
   ]
  },
  {
   "cell_type": "code",
   "execution_count": null,
   "metadata": {},
   "outputs": [],
   "source": [
    "%%configure -f\n",
    "{\n",
    "    \"conf\": \"spark.sql.extensions=io.delta.sql.DeltaSparkSessionExtension --conf spark.sql.catalog.spark_catalog=org.apache.spark.sql.delta.catalog.DeltaCatalog\",\n",
    "    \"datalake-formats\":\"delta\",\n",
    "    'enable-auto-scaling': 'false',\n",
    "    'JOB_NAME': 'glue-test-job',\n",
    "    'start_date': 'cron'\n",
    "}"
   ]
  },
  {
   "cell_type": "code",
   "execution_count": null,
   "metadata": {},
   "outputs": [],
   "source": [
    "import sys\n",
    "from awsglue.transforms import *\n",
    "from awsglue.utils import getResolvedOptions\n",
    "from pyspark.context import SparkContext\n",
    "from awsglue.context import GlueContext\n",
    "from awsglue.job import Job\n",
    "from awsglue import DynamicFrame\n",
    "from datetime import datetime, date, timedelta\n",
    "\n"
   ]
  },
  {
   "cell_type": "code",
   "execution_count": null,
   "metadata": {},
   "outputs": [],
   "source": [
    "\n",
    "args = getResolvedOptions(sys.argv, [\"JOB_NAME\", \"start_date\"])\n",
    "glueContext = GlueContext(SparkContext.getOrCreate())\n",
    "spark = glueContext.spark_session\n",
    "job = Job(glueContext)\n",
    "job.init(args[\"JOB_NAME\"], args)\n"
   ]
  },
  {
   "cell_type": "code",
   "execution_count": null,
   "metadata": {},
   "outputs": [],
   "source": [
    "start_date  = args['start_date']\n",
    "days_ago    = 2\n",
    "bucket_name = 'jamil-datalake-dev'\n",
    "catalog     = \"glue-catalog\"\n",
    "db_src      = 'insurance_db'\n",
    "db_name     = \"insurance_prd\"\n",
    "table_name  = \"policy\"\n",
    "partitions  = [\"year\", \"month\", \"day\"]\n",
    "target_path = f\"s3://{bucket_name}/{catalog}/{db_name}/{table_name}/\"\n",
    "\n",
    "if start_date == 'cron' or not start_date:\n",
    "    start_date = (date.today() - timedelta(days=days_ago)).strftime('%Y-%m-%d')\n",
    "\n",
    "print(start_date[:4])\n",
    "print(start_date[5:7])\n",
    "print(start_date[8:])"
   ]
  },
  {
   "cell_type": "code",
   "execution_count": null,
   "metadata": {},
   "outputs": [],
   "source": [
    "\n",
    "policy_df = glueContext.create_data_frame.from_catalog(\n",
    "                    database            = db_src, \n",
    "                    table_name          = table_name\n",
    "    )\n",
    "\n",
    "_dyf = DynamicFrame.fromDF(\n",
    "            dataframe=policy_df,\n",
    "            glue_ctx=glueContext,\n",
    "            name=\"_dyf\"\n",
    "    )\n"
   ]
  },
  {
   "cell_type": "code",
   "execution_count": null,
   "metadata": {},
   "outputs": [],
   "source": [
    "#policy_df.filter(f\"    year = '{start_date[:4]}' and month = '{start_date[5:7]}' and   day = '{start_date[8:]}' \").show()\n",
    "_dyf = _dyf.filter(\n",
    "            f= lambda x: x['year'] == start_date[:4]\n",
    "                    and x['month'] == start_date[5:7]\n",
    "                    and x['day']   == start_date[8:]\n",
    "    )\n"
   ]
  },
  {
   "cell_type": "code",
   "execution_count": null,
   "metadata": {},
   "outputs": [],
   "source": [
    "\n",
    "chg_dyf = ApplyMapping.apply(\n",
    "    frame=_dyf,\n",
    "    mappings=[\n",
    "        (\"policy_id\", \"long\", \"policy_id\", \"long\"),\n",
    "        (\"expiry_date\", \"date\", \"expiry_date\", \"date\"),\n",
    "        (\"location_name\", \"string\", \"location_name\", \"string\"),\n",
    "        (\"state_code\", \"string\", \"state_code\", \"string\"),\n",
    "        (\"region_name\", \"string\", \"region_name\", \"string\"),\n",
    "        (\"insured_value\", \"double\", \"insured_value\", \"double\"),\n",
    "        (\"business_type\", \"string\", \"business_type\", \"string\"),\n",
    "        (\"flood\", \"string\", \"flood\", \"string\"),\n",
    "        (\"file_name\", \"string\", \"file_name\", \"string\"),\n",
    "        (\"year_month_day\", \"string\", \"year_month_day\", \"string\"),\n",
    "        (\"year\", \"string\", \"year\", \"string\"),\n",
    "        (\"month\", \"string\", \"month\", \"string\"),\n",
    "        (\"day\", \"string\", \"day\", \"string\"),\n",
    "    ]\n",
    ")\n",
    "\n",
    "chg_dyf.printSchema()\n"
   ]
  },
  {
   "cell_type": "code",
   "execution_count": null,
   "metadata": {
    "notebookRunGroups": {
     "groupValue": ""
    }
   },
   "outputs": [],
   "source": [
    "additional_options={\n",
    "        \"enableUpdateCatalog\": True,\n",
    "        \"updateBehavior\": \"UPDATE_IN_DATABASE\"        \n",
    "    }\n",
    "\n",
    "s3sink = glueContext.getSink(\n",
    "    connection_type=\"s3\",\n",
    "    path= target_path,\n",
    "    partitionKeys=[\"year\", \"month\", \"day\"],\n",
    "    compression=\"snappy\",\n",
    "    enableUpdateCatalog=True,\n",
    "    updateBehavior=\"UPDATE_IN_DATABASE\"\n",
    ")\n",
    "    \n",
    "s3sink.setCatalogInfo(\n",
    "    catalogDatabase=db_name, \n",
    "    catalogTableName=table_name\n",
    ")\n",
    "    \n",
    "s3sink.setFormat(\"glueparquet\", useGlueParquetWriter=True)\n",
    "\n",
    "final_dyf = s3sink.writeFrame(chg_dyf)\n",
    "\n"
   ]
  },
  {
   "cell_type": "code",
   "execution_count": null,
   "metadata": {},
   "outputs": [],
   "source": [
    "\n",
    "job.commit()"
   ]
  },
  {
   "cell_type": "code",
   "execution_count": null,
   "metadata": {},
   "outputs": [],
   "source": [
    "%stop_session"
   ]
  },
  {
   "cell_type": "code",
   "execution_count": null,
   "metadata": {},
   "outputs": [],
   "source": []
  }
 ],
 "metadata": {
  "kernelspec": {
   "display_name": "Glue PySpark",
   "language": "python",
   "name": "glue_pyspark"
  },
  "language_info": {
   "codemirror_mode": {
    "name": "python",
    "version": 3
   },
   "file_extension": ".py",
   "mimetype": "text/x-python",
   "name": "python",
   "pygments_lexer": "python3",
   "version": "3.10.10"
  }
 },
 "nbformat": 4,
 "nbformat_minor": 2
}
